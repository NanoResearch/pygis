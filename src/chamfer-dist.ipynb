{
 "metadata": {
  "name": "chamfer-dist"
 }, 
 "nbformat": 2, 
 "worksheets": [
  {
   "cells": [
    {
     "cell_type": "markdown", 
     "source": [
      "Chamfer distance versus Euclidean distance", 
      "==========================================", 
      "", 
      "This notebook investigates the difference between the Euclidean (along the ground) and chamfer (pixel-to-pixel) distances.", 
      "The latter distance is, implicitly, the distance metric used in GIS software when planning a least-cost path using", 
      "raster cost and elevation layers.", 
      "", 
      "Euclidean distance", 
      "------------------", 
      "", 
      "This is the familiar linear distance we all know from high school geometry. If we go $x$ units along and $y$ up then our", 
      "Euclidean distance, $d_e(x,y)$ is given by:", 
      "", 
      "$$", 
      "d_e(x,y) = \\sqrt{x^2 + y^2}.", 
      "$$", 
      "", 
      "Chamfer distance", 
      "----------------", 
      "", 
      "This is the distance you walk when one can only go horizontally, vertically or diagonally one cell.", 
      "To compute it, firstly flip the signs of your $x$ and $y$ so that they are positive and, if $x < y$, swap them.", 
      "The chamfer distance, $d_c(x,y)$ is then:", 
      "", 
      "$$", 
      "d_c(x,y) = (x-y) + \\sqrt{2} y.", 
      "$$"
     ]
    }, 
    {
     "cell_type": "markdown", 
     "source": [
      "Plotting the difference", 
      "=======================", 
      "", 
      "In this section, we write some simple Python code to plot the (relative) difference in Euclidean and chamfer distances."
     ]
    }, 
    {
     "cell_type": "markdown", 
     "source": [
      "Let's define a function for the Eudlidean distance:"
     ]
    }, 
    {
     "cell_type": "code", 
     "collapsed": true, 
     "input": [
      "def edist(x, y):", 
      "    return sqrt(x*x + y*y)"
     ], 
     "language": "python", 
     "outputs": [], 
     "prompt_number": 1
    }, 
    {
     "cell_type": "markdown", 
     "source": [
      "And now one for the Chamfer distance:"
     ]
    }, 
    {
     "cell_type": "code", 
     "collapsed": true, 
     "input": [
      "def cdist(x, y):", 
      "    xp = maximum(abs(x), abs(y))", 
      "    yp = minimum(abs(x), abs(y))", 
      "    return (xp-yp) + sqrt(2) * yp"
     ], 
     "language": "python", 
     "outputs": [], 
     "prompt_number": 2
    }, 
    {
     "cell_type": "markdown", 
     "source": [
      "Let's test it out with some test cases:"
     ]
    }, 
    {
     "cell_type": "code", 
     "collapsed": true, 
     "input": [
      "points = array([ [0,0], [0,1], [1,1], [1,2] ])"
     ], 
     "language": "python", 
     "outputs": [], 
     "prompt_number": 3
    }, 
    {
     "cell_type": "code", 
     "collapsed": false, 
     "input": [
      "edist(points[:,0], points[:,1])"
     ], 
     "language": "python", 
     "outputs": [
      {
       "output_type": "pyout", 
       "prompt_number": 4, 
       "text": [
        "array([ 0.        ,  1.        ,  1.41421356,  2.23606798])"
       ]
      }
     ], 
     "prompt_number": 4
    }, 
    {
     "cell_type": "code", 
     "collapsed": false, 
     "input": [
      "cdist(points[:,0], points[:,1])"
     ], 
     "language": "python", 
     "outputs": [
      {
       "output_type": "pyout", 
       "prompt_number": 5, 
       "text": [
        "array([ 0.        ,  1.        ,  1.41421356,  2.41421356])"
       ]
      }
     ], 
     "prompt_number": 5
    }, 
    {
     "cell_type": "markdown", 
     "source": [
      "Notice how the Euclidean and chamfer distances are the same for horizontal or diagonal movement but not for others."
     ]
    }, 
    {
     "cell_type": "markdown", 
     "source": [
      "Let's generate some points on a circle:"
     ]
    }, 
    {
     "cell_type": "code", 
     "collapsed": false, 
     "input": [
      "angles_deg = arange(0, 361, 5)", 
      "", 
      "# Convert degrees to radians", 
      "angles_rad = 2 * pi * angles_deg / 360"
     ], 
     "language": "python", 
     "outputs": [], 
     "prompt_number": 6
    }, 
    {
     "cell_type": "markdown", 
     "source": [
      "We had to use '361' there rather than '360' due to the way that the `arange` function works.", 
      "If we print out the values in `angles_deg` you can see that they go from 0 to 360 in 5 degree increments."
     ]
    }, 
    {
     "cell_type": "code", 
     "collapsed": false, 
     "input": [
      "angles_deg"
     ], 
     "language": "python", 
     "outputs": [
      {
       "output_type": "pyout", 
       "prompt_number": 7, 
       "text": [
        "array([  0,   5,  10,  15,  20,  25,  30,  35,  40,  45,  50,  55,  60,", 
        "        65,  70,  75,  80,  85,  90,  95, 100, 105, 110, 115, 120, 125,", 
        "       130, 135, 140, 145, 150, 155, 160, 165, 170, 175, 180, 185, 190,", 
        "       195, 200, 205, 210, 215, 220, 225, 230, 235, 240, 245, 250, 255,", 
        "       260, 265, 270, 275, 280, 285, 290, 295, 300, 305, 310, 315, 320,", 
        "       325, 330, 335, 340, 345, 350, 355, 360])"
       ]
      }
     ], 
     "prompt_number": 7
    }, 
    {
     "cell_type": "markdown", 
     "source": [
      "Points on a circle can be generates via the `sin` and `cos` functions."
     ]
    }, 
    {
     "cell_type": "code", 
     "collapsed": false, 
     "input": [
      "xs = sin(angles_rad)", 
      "ys = cos(angles_rad)"
     ], 
     "language": "python", 
     "outputs": [], 
     "prompt_number": 8
    }, 
    {
     "cell_type": "markdown", 
     "source": [
      "Let's check that we actually generated a circle:"
     ]
    }, 
    {
     "cell_type": "code", 
     "collapsed": false, 
     "input": [
      "plot(xs, ys, '.')", 
      "axis('equal')"
     ], 
     "language": "python", 
     "outputs": [
      {
       "output_type": "pyout", 
       "prompt_number": 9, 
       "text": [
        "(-1.0, 1.0, -1.0, 1.0)"
       ]
      }, 
      {
       "output_type": "display_data", 
       "png": "[encoded data removed]"
      }
     ], 
     "prompt_number": 9
    }, 
    {
     "cell_type": "markdown", 
     "source": [
      "We'll now calculate the Euclidean and chamfer distances of each point on the circle from the origin.", 
      "For the Euclidean distance, we expect this to be 1. What will the chamfer distance be?"
     ]
    }, 
    {
     "cell_type": "code", 
     "collapsed": false, 
     "input": [
      "e = edist(xs, ys)", 
      "c = cdist(xs, ys)"
     ], 
     "language": "python", 
     "outputs": [], 
     "prompt_number": 10
    }, 
    {
     "cell_type": "markdown", 
     "source": [
      "Finally, we can plot the result."
     ]
    }, 
    {
     "cell_type": "code", 
     "collapsed": false, 
     "input": [
      "plot(e)", 
      "plot(c)", 
      "legend(('Euclidean', 'Chamfer'))"
     ], 
     "language": "python", 
     "outputs": [
      {
       "output_type": "pyout", 
       "prompt_number": 11, 
       "text": [
        "&lt;matplotlib.legend.Legend at 0x3afb810&gt;"
       ]
      }, 
      {
       "output_type": "display_data", 
       "png": "[encoded data removed]"
      }
     ], 
     "prompt_number": 11
    }, 
    {
     "cell_type": "markdown", 
     "source": [
      "As you can see, the chamfer distance can overestimate the 'real' distance by anything up to 8%."
     ]
    }
   ]
  }
 ]
}