{
 "metadata": {
  "name": "gaussian-filter"
 }, 
 "nbformat": 2, 
 "worksheets": [
  {
   "cells": [
    {
     "cell_type": "code", 
     "collapsed": false, 
     "input": [
      "from pygis import raster", 
      "reload(raster)"
     ], 
     "language": "python", 
     "outputs": [
      {
       "output_type": "pyout", 
       "prompt_number": 18, 
       "text": [
        "&lt;module &apos;pygis.raster&apos; from &apos;pygis/raster.py&apos;&gt;"
       ]
      }
     ], 
     "prompt_number": 18
    }, 
    {
     "cell_type": "code", 
     "collapsed": true, 
     "input": [
      "elev = raster.open_raster('ASTGTM2_N51W002_dem.tif', linear_scale=111319.5)"
     ], 
     "language": "python", 
     "outputs": [], 
     "prompt_number": 26
    }, 
    {
     "cell_type": "code", 
     "collapsed": false, 
     "input": [
      "print(elev2.pixel_linear_shape)"
     ], 
     "language": "python", 
     "outputs": [
      {
       "output_type": "stream", 
       "stream": "stdout", 
       "text": [
        "(30.922083333333255, 30.922083333333333)"
       ]
      }
     ], 
     "prompt_number": 27
    }, 
    {
     "cell_type": "code", 
     "collapsed": false, 
     "input": [
      "from numarray import nd_image"
     ], 
     "language": "python", 
     "outputs": [], 
     "prompt_number": 28
    }, 
    {
     "cell_type": "code", 
     "collapsed": false, 
     "input": [
      "elev_lp = raster.similar_raster(nd_image.gaussian_filter(elev.data, 4), elev)"
     ], 
     "language": "python", 
     "outputs": [], 
     "prompt_number": 34
    }, 
    {
     "cell_type": "code", 
     "collapsed": false, 
     "input": [
      "figure(1)", 
      "clf()", 
      "subplot(121)", 
      "raster.show_raster(elev, cmap=cm.gray)", 
      "title('Original')", 
      "subplot(122)", 
      "raster.show_raster(elev_lp, cmap=cm.gray)", 
      "title('Filtered')"
     ], 
     "language": "python", 
     "outputs": [
      {
       "output_type": "pyout", 
       "prompt_number": 35, 
       "text": [
        "&lt;matplotlib.text.Text at 0x3890fd0&gt;"
       ]
      }
     ], 
     "prompt_number": 35
    }, 
    {
     "cell_type": "code", 
     "collapsed": true, 
     "input": [
      "emboss = raster.elevation_emboss(elev)", 
      "emboss_lp = raster.elevation_emboss(elev_lp)"
     ], 
     "language": "python", 
     "outputs": [], 
     "prompt_number": "*"
    }, 
    {
     "cell_type": "code", 
     "collapsed": false, 
     "input": [
      "figure(1)", 
      "clf()", 
      "subplot(121)", 
      "raster.show_raster(emboss, cmap=cm.gray)", 
      "title('Original')", 
      "subplot(122)", 
      "raster.show_raster(emboss_lp, cmap=cm.gray)", 
      "title('Filtered')"
     ], 
     "language": "python", 
     "outputs": [
      {
       "output_type": "pyout", 
       "prompt_number": 32, 
       "text": [
        "&lt;matplotlib.text.Text at 0x303e190&gt;"
       ]
      }
     ], 
     "prompt_number": 32
    }, 
    {
     "cell_type": "code", 
     "collapsed": true, 
     "input": [], 
     "language": "python", 
     "outputs": [], 
     "prompt_number": "&nbsp;"
    }
   ]
  }
 ]
}