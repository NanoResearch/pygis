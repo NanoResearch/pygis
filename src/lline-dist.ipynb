{
 "metadata": {
  "name": "lline-dist"
 }, 
 "nbformat": 2, 
 "worksheets": [
  {
   "cells": [
    {
     "cell_type": "code", 
     "collapsed": true, 
     "input": [
      "from pygis.raster import *"
     ], 
     "language": "python", 
     "outputs": [], 
     "prompt_number": 2
    }, 
    {
     "cell_type": "code", 
     "collapsed": true, 
     "input": [
      "a = open_raster('dtm21.tif')"
     ], 
     "language": "python", 
     "outputs": [], 
     "prompt_number": 3
    }, 
    {
     "cell_type": "code", 
     "collapsed": true, 
     "input": [
      "show_raster(a)"
     ], 
     "language": "python", 
     "outputs": [], 
     "prompt_number": 4
    }, 
    {
     "cell_type": "code", 
     "collapsed": true, 
     "input": [
      "p = ginput(2)"
     ], 
     "language": "python", 
     "outputs": [], 
     "prompt_number": 5
    }, 
    {
     "cell_type": "code", 
     "collapsed": false, 
     "input": [
      "p"
     ], 
     "language": "python", 
     "outputs": [
      {
       "output_type": "pyout", 
       "prompt_number": 6, 
       "text": [
        "[(394530.41890036606, 155635.9571129707),", 
        " (412048.33208028239, 170439.82740585774)]"
       ]
      }
     ], 
     "prompt_number": 6
    }, 
    {
     "cell_type": "code", 
     "collapsed": false, 
     "input": [
      "import numpy as np", 
      "def line_dist(start, end, r):", 
      "    # get an image of x and y proj. coords", 
      "    pxs = np.arange(0, a.data.shape[1])", 
      "    pys = np.arange(0, a.data.shape[0])", 
      "    Xp, Yp = np.meshgrid(pxs, pys)", 
      "", 
      "    pixels = vstack((Xp.ravel(), Yp.ravel())).transpose()", 
      "    points = a.pixel_to_proj(pixels)", 
      "    X = points[:,0].reshape(Xp.shape)", 
      "    Y = points[:,1].reshape(Yp.shape)", 
      "", 
      "    # see http://en.wikipedia.org/wiki/Distance_from_a_point_to_a_line", 
      "    # if line is X = A + t * N (where N.N = 1)", 
      "    # dist of P = length((A-P) - ((A-P) . N)N)", 
      "    #           = length(B - (B.N)N), B = A-P", 
      "    ", 
      "    N = np.array(end) - np.array(start)", 
      "    separation = np.sqrt(np.dot(N, N))", 
      "    N /= separation", 
      "    ", 
      "    Bx = start[0] - X", 
      "    By = start[1] - Y", 
      "    ", 
      "    BdotN = Bx * N[0] + By * N[1]", 
      "    ", 
      "    Bx -= BdotN * N[0]", 
      "    By -= BdotN * N[1]", 
      "", 
      "    # perpendicular distance", 
      "    perp_dist = np.sqrt(Bx*Bx + By*By) * r.linear_scale", 
      "    ", 
      "    # end-point distances", 
      "    start_dx = X - start[0]", 
      "    start_dy = Y - start[1]", 
      "    start_dist = np.sqrt(start_dx*start_dx + start_dy*start_dy)", 
      "     ", 
      "    end_dx = X - end[0]", 
      "    end_dy = Y - end[1]", 
      "    end_dist = np.sqrt(end_dx*end_dx + end_dy*end_dy)", 
      "   ", 
      "    point_dist = np.minimum(start_dist, end_dist) * r.linear_scale", 
      "    ", 
      "    # where is the perpendicular distance valid?", 
      "    dists = where((BdotN < 0.0) * (BdotN > -separation),", 
      "                  perp_dist, point_dist)", 
      "    ", 
      "    return similar_raster(dists, r)"
     ], 
     "language": "python", 
     "outputs": [], 
     "prompt_number": 133
    }, 
    {
     "cell_type": "code", 
     "collapsed": true, 
     "input": [
      "def path_dist(path, r):", 
      "    dist = np.ones(r.data.shape) * np.inf", 
      "    for start, end in zip(path[:-1], path[1:]):", 
      "        dist = np.minimum(dist, line_dist(start, end, r).data)", 
      "    return similar_raster(dist, r)"
     ], 
     "language": "python", 
     "outputs": [], 
     "prompt_number": 134
    }, 
    {
     "cell_type": "code", 
     "collapsed": false, 
     "input": [
      "clf()", 
      "pa = array(p)", 
      "dist = path_dist(p, a)", 
      "show_raster(dist)", 
      "print(dist.data.min(), dist.data.max())", 
      "plot(pa[:,0], pa[:,1], 'k', scalex=False, scaley=False)"
     ], 
     "language": "python", 
     "outputs": [
      {
       "output_type": "stream", 
       "stream": "stdout", 
       "text": [
        "(0.030347360439105492, 63834.398082665728)"
       ]
      }, 
      {
       "output_type": "pyout", 
       "prompt_number": 135, 
       "text": [
        "[&lt;matplotlib.lines.Line2D at 0xaaf41d0&gt;]"
       ]
      }
     ], 
     "prompt_number": 135
    }, 
    {
     "cell_type": "code", 
     "collapsed": false, 
     "input": [
      "a.pixel_proj_shape"
     ], 
     "language": "python", 
     "outputs": [
      {
       "output_type": "pyout", 
       "prompt_number": 136, 
       "text": [
        "(50.0, 50.0)"
       ]
      }
     ], 
     "prompt_number": 136
    }, 
    {
     "cell_type": "code", 
     "collapsed": false, 
     "input": [
      "import json", 
      "paths = json.load(open('sampled_paths.json'))", 
      "clf()", 
      "path = array(paths[0])", 
      "dists = np.zeros(a.data.shape)", 
      "for idx, path in enumerate(paths[:3]):", 
      "    print('%i/%i' % (idx+1, len(paths)))", 
      "    dists += path_dist(path, a).data", 
      "dists /= len(paths)", 
      "ds = similar_raster(dists, a)", 
      "show_raster(ds)", 
      "#plot(path[:,0], path[:,1], 'r')"
     ], 
     "language": "python", 
     "outputs": [
      {
       "output_type": "stream", 
       "stream": "stdout", 
       "text": [
        "1/89", 
        "2/89"
       ]
      }, 
      {
       "output_type": "stream", 
       "stream": "stdout", 
       "text": [
        "", 
        "3/89"
       ]
      }, 
      {
       "output_type": "stream", 
       "stream": "stdout", 
       "text": [
        ""
       ]
      }
     ], 
     "prompt_number": 118
    }, 
    {
     "cell_type": "code", 
     "collapsed": false, 
     "input": [
      "# get an image of x and y proj. coords", 
      "pxs = np.arange(0, a.data.shape[1])", 
      "pys = np.arange(0, a.data.shape[0])", 
      "Xp, Yp = np.meshgrid(pxs, pys)", 
      "", 
      "pixels = vstack((Xp.ravel(), Yp.ravel())).transpose()", 
      "points = a.pixel_to_proj(pixels)", 
      "X = points[:,0].reshape(Xp.shape)", 
      "Y = points[:,1].reshape(Yp.shape)", 
      "", 
      "clf()", 
      "contourf(X,Y,ds.data,20)", 
      "colorbar()"
     ], 
     "language": "python", 
     "outputs": [
      {
       "output_type": "pyout", 
       "prompt_number": 142, 
       "text": [
        "&lt;matplotlib.colorbar.Colorbar instance at 0x5691e18&gt;"
       ]
      }
     ], 
     "prompt_number": 142
    }, 
    {
     "cell_type": "code", 
     "collapsed": false, 
     "input": [
      "imshow(Y)"
     ], 
     "language": "python", 
     "outputs": [
      {
       "output_type": "pyout", 
       "prompt_number": 128, 
       "text": [
        "&lt;matplotlib.image.AxesImage at 0x12ab0f50&gt;"
       ]
      }
     ], 
     "prompt_number": 128
    }, 
    {
     "cell_type": "code", 
     "collapsed": true, 
     "input": [], 
     "language": "python", 
     "outputs": [], 
     "prompt_number": "&nbsp;"
    }
   ]
  }
 ]
}