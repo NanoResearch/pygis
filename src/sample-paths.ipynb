{
 "metadata": {
  "name": "sample-paths"
 }, 
 "nbformat": 2, 
 "worksheets": [
  {
   "cells": [
    {
     "cell_type": "code", 
     "collapsed": false, 
     "input": [
      "%run path_mutate.ipy"
     ], 
     "language": "python", 
     "outputs": [], 
     "prompt_number": 5
    }, 
    {
     "cell_type": "code", 
     "collapsed": false, 
     "input": [
      "run(state, 100)"
     ], 
     "language": "python", 
     "outputs": [
      {
       "output_type": "stream", 
       "stream": "stdout", 
       "text": [
        "alpha: 0.000, current: 946.9, best: 946.9", 
        "alpha: 0.091, current: 822.8, best: 822.8"
       ]
      }, 
      {
       "output_type": "stream", 
       "stream": "stdout", 
       "text": [
        "", 
        "alpha: 0.143, current: 794.1, best: 794.1"
       ]
      }, 
      {
       "output_type": "stream", 
       "stream": "stdout", 
       "text": [
        "", 
        "alpha: 0.194, current: 707.4, best: 707.4"
       ]
      }, 
      {
       "output_type": "stream", 
       "stream": "stdout", 
       "text": [
        "", 
        "alpha: 0.220, current: 584.8, best: 584.8"
       ]
      }, 
      {
       "output_type": "stream", 
       "stream": "stdout", 
       "text": [
        "", 
        "alpha: 0.255, current: 509.7, best: 509.7"
       ]
      }, 
      {
       "output_type": "stream", 
       "stream": "stdout", 
       "text": [
        "", 
        "alpha: 0.279, current: 459.7, best: 458.7"
       ]
      }, 
      {
       "output_type": "stream", 
       "stream": "stdout", 
       "text": [
        "", 
        "alpha: 0.268, current: 451.0, best: 451.0"
       ]
      }, 
      {
       "output_type": "stream", 
       "stream": "stdout", 
       "text": [
        "", 
        "alpha: 0.272, current: 437.9, best: 437.9"
       ]
      }, 
      {
       "output_type": "stream", 
       "stream": "stdout", 
       "text": [
        "", 
        "alpha: 0.242, current: 437.9, best: 437.9"
       ]
      }, 
      {
       "output_type": "stream", 
       "stream": "stdout", 
       "text": [
        "", 
        "after 100 iterations, alpha: 0.230, current: 444.6, best: 437.9"
       ]
      }, 
      {
       "output_type": "stream", 
       "stream": "stdout", 
       "text": [
        ""
       ]
      }
     ], 
     "prompt_number": 4
    }, 
    {
     "cell_type": "code", 
     "collapsed": true, 
     "input": [
      "emboss = pygis.raster.elevation_emboss(elev)"
     ], 
     "language": "python", 
     "outputs": [], 
     "prompt_number": 7
    }, 
    {
     "cell_type": "code", 
     "collapsed": false, 
     "input": [
      "pygis.raster.show_raster(emboss, cmap=cm.gray)"
     ], 
     "language": "python", 
     "outputs": [], 
     "prompt_number": 8
    }, 
    {
     "cell_type": "code", 
     "collapsed": false, 
     "input": [
      "sample_path()"
     ], 
     "language": "python", 
     "outputs": [
      {
       "output_type": "stream", 
       "stream": "stdout", 
       "text": [
        "after 1000 iterations, alpha: 0.025, current: 28530.0, best: 28527.9"
       ]
      }
     ], 
     "prompt_number": 4
    }, 
    {
     "cell_type": "code", 
     "collapsed": false, 
     "input": [
      "sampled_paths"
     ], 
     "language": "python", 
     "outputs": [
      {
       "output_type": "pyout", 
       "prompt_number": 85, 
       "text": [
        "[(&lt;path_planning.Path at 0x435dcd0&gt;, 344.73485163659115),", 
        " (&lt;path_planning.Path at 0x59beb90&gt;, 357.34925646568445)]"
       ]
      }
     ], 
     "prompt_number": 85
    }, 
    {
     "cell_type": "code", 
     "collapsed": false, 
     "input": [
      "for i in xrange(20):", 
      "    sample_path()"
     ], 
     "language": "python", 
     "outputs": [], 
     "prompt_number": "*"
    }, 
    {
     "cell_type": "code", 
     "collapsed": true, 
     "input": [
      "plot_paths([start_path,] + [x[0].points for x in sampled_paths])"
     ], 
     "language": "python", 
     "outputs": [], 
     "prompt_number": 35
    }, 
    {
     "cell_type": "code", 
     "collapsed": false, 
     "input": [
      "clf()", 
      "hist([x[1] for x in sampled_paths])"
     ], 
     "language": "python", 
     "outputs": [
      {
       "output_type": "pyout", 
       "prompt_number": 33, 
       "text": [
        "(array([ 8, 18, 21, 13, 16,  6,  4,  1,  1,  1]),", 
        " array([ 347.4724433 ,  384.99271914,  422.51299498,  460.03327082,", 
        "        497.55354666,  535.0738225 ,  572.59409834,  610.11437418,", 
        "        647.63465002,  685.15492586,  722.6752017 ]),", 
        " &lt;a list of 10 Patch objects&gt;)"
       ]
      }
     ], 
     "prompt_number": 33
    }, 
    {
     "cell_type": "code", 
     "collapsed": false, 
     "input": [
      "import json", 
      "def points_to_list(pts):", 
      "    out = []", 
      "    for p in pts:", 
      "        out.append(list(p))", 
      "    return out", 
      "json.dump([points_to_list(x[0].points) for x in sampled_paths], open('sampled_paths.json','w'))"
     ], 
     "language": "python", 
     "outputs": [], 
     "prompt_number": 36
    }, 
    {
     "cell_type": "code", 
     "collapsed": true, 
     "input": [], 
     "language": "python", 
     "outputs": [], 
     "prompt_number": "&nbsp;"
    }
   ]
  }
 ]
}