{
 "metadata": {
  "name": "lanczos"
 }, 
 "nbformat": 2, 
 "worksheets": [
  {
   "cells": [
    {
     "cell_type": "markdown", 
     "source": [
      "An example of why sampling matters", 
      "==================================", 
      "", 
      "Import `pygis` and open the elevation raster:"
     ]
    }, 
    {
     "cell_type": "code", 
     "collapsed": true, 
     "input": [
      "from pygis.raster import *", 
      "from pygis.path import *"
     ], 
     "language": "python", 
     "outputs": [], 
     "prompt_number": 166
    }, 
    {
     "cell_type": "code", 
     "collapsed": true, 
     "input": [
      "r = open_raster('dtm21.tif')", 
      "figure(1)", 
      "clf()", 
      "e = elevation_emboss(r)", 
      "show_raster(e, cmap=cm.gray)"
     ], 
     "language": "python", 
     "outputs": [], 
     "prompt_number": 168
    }, 
    {
     "cell_type": "markdown", 
     "source": [
      "In the cell below, I've commented out an example of how you could input the path directly from the image."
     ]
    }, 
    {
     "cell_type": "code", 
     "collapsed": false, 
     "input": [
      "#title('Select start and end point')", 
      "#path = array(ginput(2))", 
      "#title('')", 
      "path = array(r.pixel_to_proj([[200,200], [400,200]]))", 
      "print(path)"
     ], 
     "language": "python", 
     "outputs": [
      {
       "output_type": "stream", 
       "stream": "stdout", 
       "text": [
        "[[ 379475.  195525.]", 
        " [ 389475.  195525.]]"
       ]
      }
     ], 
     "prompt_number": 169
    }, 
    {
     "cell_type": "markdown", 
     "source": [
      "We'll define a function to plot the path and then plot it."
     ]
    }, 
    {
     "cell_type": "code", 
     "collapsed": true, 
     "input": [
      "def plot_path(p):", 
      "    plot(p[:,0], p[:,1], scalex=False, scaley=False)"
     ], 
     "language": "python", 
     "outputs": [], 
     "prompt_number": 170
    }, 
    {
     "cell_type": "code", 
     "collapsed": true, 
     "input": [
      "plot_path(path)"
     ], 
     "language": "python", 
     "outputs": [], 
     "prompt_number": 171
    }, 
    {
     "cell_type": "markdown", 
     "source": [
      "Get a set of points on this line at 5 metre intervals."
     ]
    }, 
    {
     "cell_type": "code", 
     "collapsed": true, 
     "input": [
      "points, dists = points_on_line(path[0], path[1], 5)"
     ], 
     "language": "python", 
     "outputs": [], 
     "prompt_number": 172
    }, 
    {
     "cell_type": "markdown", 
     "source": [
      "Plot the elevations at these points. Notice the staircasing."
     ]
    }, 
    {
     "cell_type": "code", 
     "collapsed": false, 
     "input": [
      "clf()", 
      "plot(dists, r.sample(points))"
     ], 
     "language": "python", 
     "outputs": [
      {
       "output_type": "pyout", 
       "prompt_number": 174, 
       "text": [
        "[&lt;matplotlib.lines.Line2D at 0xa448fd0&gt;]"
       ]
      }
     ], 
     "prompt_number": 174
    }, 
    {
     "cell_type": "markdown", 
     "source": [
      "If we use the `lanczos_sample` method instead, the samples are smoothed."
     ]
    }, 
    {
     "cell_type": "code", 
     "collapsed": false, 
     "input": [
      "plot(dists, r.lanczos_sample(points))"
     ], 
     "language": "python", 
     "outputs": [
      {
       "output_type": "pyout", 
       "prompt_number": 175, 
       "text": [
        "[&lt;matplotlib.lines.Line2D at 0xd620650&gt;]"
       ]
      }
     ], 
     "prompt_number": 175
    }, 
    {
     "cell_type": "markdown", 
     "source": [
      "3D Plotting", 
      "-----------", 
      "", 
      "3D plotting is a little more complex as we'll be rolling our own rather than using any convenience commands./"
     ]
    }, 
    {
     "cell_type": "code", 
     "collapsed": true, 
     "input": [
      "from mpl_toolkits.mplot3d import Axes3D"
     ], 
     "language": "python", 
     "outputs": [], 
     "prompt_number": 177
    }, 
    {
     "cell_type": "markdown", 
     "source": [
      "Try changing `1` to `0.25` and then `sample` to `lanczos_sample` to see the effects."
     ]
    }, 
    {
     "cell_type": "code", 
     "collapsed": true, 
     "input": [
      "x_pixels = arange(235,245,1)", 
      "y_pixels = arange(235,245,1)", 
      "Xpx, Ypx = meshgrid(x_pixels, y_pixels)"
     ], 
     "language": "python", 
     "outputs": [], 
     "prompt_number": 26
    }, 
    {
     "cell_type": "code", 
     "collapsed": true, 
     "input": [
      "xs = ravel(Xpx)", 
      "ys = ravel(Ypx)", 
      "pixels = vstack((xs, ys)).transpose()", 
      "points = r.pixel_to_proj(pixels)", 
      "height_samples = array(r.sample(points))"
     ], 
     "language": "python", 
     "outputs": [], 
     "prompt_number": 27
    }, 
    {
     "cell_type": "code", 
     "collapsed": true, 
     "input": [
      "X = points[:,0].reshape(Xpx.shape)", 
      "Y = points[:,1].reshape(Xpx.shape)", 
      "Z = height_samples.reshape(Xpx.shape)"
     ], 
     "language": "python", 
     "outputs": [], 
     "prompt_number": 28
    }, 
    {
     "cell_type": "code", 
     "collapsed": true, 
     "input": [
      "clf()", 
      "ax = gcf().add_subplot(111, projection='3d')", 
      "ax.plot_surface(X, Y, Z,", 
      "                rstride=1, cstride=1, ", 
      "                linewidth=0.5, cmap=cm.jet,", 
      "                antialiased=True)", 
      "draw()"
     ], 
     "language": "python", 
     "outputs": [], 
     "prompt_number": 29
    }, 
    {
     "cell_type": "markdown", 
     "source": [
      "Finally, we can plot contour plots."
     ]
    }, 
    {
     "cell_type": "code", 
     "collapsed": false, 
     "input": [
      "clf()", 
      "contourf(X,Y,Z)", 
      "colorbar()", 
      "axis('equal')"
     ], 
     "language": "python", 
     "outputs": [
      {
       "output_type": "pyout", 
       "prompt_number": 222, 
       "text": [
        "(381200.0, 381800.0, 193200.0, 193800.0)"
       ]
      }
     ], 
     "prompt_number": 222
    }
   ]
  }
 ]
}