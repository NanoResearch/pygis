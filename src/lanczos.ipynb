{
 "metadata": {
  "name": "lanczos"
 }, 
 "nbformat": 2, 
 "worksheets": [
  {
   "cells": [
    {
     "cell_type": "code", 
     "collapsed": false, 
     "input": [
      "from pygis.raster import *", 
      "from pygis.path import *"
     ], 
     "language": "python", 
     "outputs": [], 
     "prompt_number": 1
    }, 
    {
     "cell_type": "code", 
     "collapsed": false, 
     "input": [
      "r = open_raster('dtm21.tif')", 
      "clf()", 
      "show_raster(r)", 
      "colorbar()"
     ], 
     "language": "python", 
     "outputs": [
      {
       "output_type": "pyout", 
       "prompt_number": 2, 
       "text": [
        "&lt;matplotlib.colorbar.Colorbar instance at 0x39524d0&gt;"
       ]
      }
     ], 
     "prompt_number": 2
    }, 
    {
     "cell_type": "code", 
     "collapsed": false, 
     "input": [
      "#title('Select start and end point')", 
      "#path = array(ginput(2))", 
      "#title('')", 
      "path = array(r.pixel_to_proj([[200,200], [400,200]]))", 
      "print(path)"
     ], 
     "language": "python", 
     "outputs": [
      {
       "output_type": "stream", 
       "stream": "stdout", 
       "text": [
        "[[ 379475.  195525.]", 
        " [ 389475.  195525.]]"
       ]
      }
     ], 
     "prompt_number": 3
    }, 
    {
     "cell_type": "code", 
     "collapsed": false, 
     "input": [
      "def plot_path(p):", 
      "    plot(p[:,0], p[:,1], scalex=False, scaley=False)"
     ], 
     "language": "python", 
     "outputs": [], 
     "prompt_number": 4
    }, 
    {
     "cell_type": "code", 
     "collapsed": false, 
     "input": [
      "plot_path(path)"
     ], 
     "language": "python", 
     "outputs": [], 
     "prompt_number": 5
    }, 
    {
     "cell_type": "code", 
     "collapsed": true, 
     "input": [
      "points, dists = points_on_line(path[0], path[1], 5)"
     ], 
     "language": "python", 
     "outputs": [], 
     "prompt_number": 6
    }, 
    {
     "cell_type": "code", 
     "collapsed": false, 
     "input": [
      "clf()", 
      "plot(dists, r.sample(points))", 
      "plot(dists, r.lanczos_sample(points))"
     ], 
     "language": "python", 
     "outputs": [
      {
       "output_type": "pyout", 
       "prompt_number": 7, 
       "text": [
        "[&lt;matplotlib.lines.Line2D at 0x3944c10&gt;]"
       ]
      }
     ], 
     "prompt_number": 7
    }, 
    {
     "cell_type": "code", 
     "collapsed": false, 
     "input": [
      "g = elevation_gradient(r)", 
      "gs = g.lanczos_sample(points)"
     ], 
     "language": "python", 
     "outputs": [], 
     "prompt_number": 8
    }, 
    {
     "cell_type": "code", 
     "collapsed": false, 
     "input": [
      "gs"
     ], 
     "language": "python", 
     "outputs": [
      {
       "output_type": "pyout", 
       "prompt_number": 9, 
       "text": [
        "array([[  2.48165326e-19,   4.96330653e-19],", 
        "       [ -5.28492570e-04,  -5.45784744e-04],", 
        "       [ -8.25538656e-04,  -8.64049420e-04],", 
        "       ..., ", 
        "       [  8.21697820e-03,   1.45552800e-04],", 
        "       [  9.23241461e-03,   7.39291519e-05],", 
        "       [  1.00000000e-02,   2.48165326e-19]])"
       ]
      }
     ], 
     "prompt_number": 9
    }, 
    {
     "cell_type": "code", 
     "collapsed": true, 
     "input": [], 
     "language": "python", 
     "outputs": [], 
     "prompt_number": "&nbsp;"
    }
   ]
  }
 ]
}