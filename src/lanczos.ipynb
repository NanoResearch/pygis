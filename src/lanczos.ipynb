{
 "metadata": {
  "name": "lanczos"
 }, 
 "nbformat": 2, 
 "worksheets": [
  {
   "cells": [
    {
     "cell_type": "code", 
     "collapsed": false, 
     "input": [
      "from pygis.raster import *", 
      "from pygis.path import *"
     ], 
     "language": "python", 
     "outputs": [], 
     "prompt_number": 166
    }, 
    {
     "cell_type": "code", 
     "collapsed": false, 
     "input": [
      "r = open_raster('dtm21.tif')", 
      "figure(1)", 
      "clf()", 
      "e = elevation_emboss(r)", 
      "show_raster(e, cmap=cm.gray)"
     ], 
     "language": "python", 
     "outputs": [], 
     "prompt_number": 168
    }, 
    {
     "cell_type": "code", 
     "collapsed": false, 
     "input": [
      "#title('Select start and end point')", 
      "#path = array(ginput(2))", 
      "#title('')", 
      "path = array(r.pixel_to_proj([[200,200], [400,200]]))", 
      "print(path)"
     ], 
     "language": "python", 
     "outputs": [
      {
       "output_type": "stream", 
       "stream": "stdout", 
       "text": [
        "[[ 379475.  195525.]", 
        " [ 389475.  195525.]]"
       ]
      }
     ], 
     "prompt_number": 169
    }, 
    {
     "cell_type": "code", 
     "collapsed": true, 
     "input": [
      "def plot_path(p):", 
      "    plot(p[:,0], p[:,1], scalex=False, scaley=False)"
     ], 
     "language": "python", 
     "outputs": [], 
     "prompt_number": 170
    }, 
    {
     "cell_type": "code", 
     "collapsed": false, 
     "input": [
      "plot_path(path)"
     ], 
     "language": "python", 
     "outputs": [], 
     "prompt_number": 171
    }, 
    {
     "cell_type": "code", 
     "collapsed": true, 
     "input": [
      "points, dists = points_on_line(path[0], path[1], 5)"
     ], 
     "language": "python", 
     "outputs": [], 
     "prompt_number": 172
    }, 
    {
     "cell_type": "code", 
     "collapsed": false, 
     "input": [
      "clf()", 
      "plot(dists, r.sample(points))"
     ], 
     "language": "python", 
     "outputs": [
      {
       "output_type": "pyout", 
       "prompt_number": 174, 
       "text": [
        "[&lt;matplotlib.lines.Line2D at 0xa448fd0&gt;]"
       ]
      }
     ], 
     "prompt_number": 174
    }, 
    {
     "cell_type": "code", 
     "collapsed": false, 
     "input": [
      "plot(dists, r.lanczos_sample(points))"
     ], 
     "language": "python", 
     "outputs": [
      {
       "output_type": "pyout", 
       "prompt_number": 175, 
       "text": [
        "[&lt;matplotlib.lines.Line2D at 0xd620650&gt;]"
       ]
      }
     ], 
     "prompt_number": 175
    }, 
    {
     "cell_type": "code", 
     "collapsed": false, 
     "input": [
      "from mpl_toolkits.mplot3d import Axes3D"
     ], 
     "language": "python", 
     "outputs": [], 
     "prompt_number": 177
    }, 
    {
     "cell_type": "code", 
     "collapsed": false, 
     "input": [
      "x_pixels = arange(235,245,0.25)", 
      "y_pixels = arange(235,245,0.25)", 
      "Xpx, Ypx = meshgrid(x_pixels, y_pixels)"
     ], 
     "language": "python", 
     "outputs": [], 
     "prompt_number": 210
    }, 
    {
     "cell_type": "code", 
     "collapsed": false, 
     "input": [
      "xs = ravel(Xpx)", 
      "ys = ravel(Ypx)", 
      "pixels = vstack((xs, ys)).transpose()", 
      "points = r.pixel_to_proj(pixels)", 
      "height_samples = array(r.lanczos_sample(points))"
     ], 
     "language": "python", 
     "outputs": [], 
     "prompt_number": 219
    }, 
    {
     "cell_type": "code", 
     "collapsed": false, 
     "input": [
      "X = points[:,0].reshape(Xpx.shape)", 
      "Y = points[:,1].reshape(Xpx.shape)", 
      "Z = height_samples.reshape(Xpx.shape)"
     ], 
     "language": "python", 
     "outputs": [], 
     "prompt_number": 220
    }, 
    {
     "cell_type": "code", 
     "collapsed": false, 
     "input": [
      "clf()", 
      "ax = gcf().add_subplot(111, projection='3d')", 
      "ax.plot_surface(X, Y, Z,", 
      "                rstride=1, cstride=1, ", 
      "                linewidth=0.5, cmap=cm.jet,", 
      "                antialiased=True)", 
      "draw()"
     ], 
     "language": "python", 
     "outputs": [], 
     "prompt_number": 221
    }, 
    {
     "cell_type": "code", 
     "collapsed": false, 
     "input": [
      "clf()", 
      "contourf(X,Y,Z)", 
      "colorbar()", 
      "axis('equal')"
     ], 
     "language": "python", 
     "outputs": [
      {
       "output_type": "pyout", 
       "prompt_number": 222, 
       "text": [
        "(381200.0, 381800.0, 193200.0, 193800.0)"
       ]
      }
     ], 
     "prompt_number": 222
    }, 
    {
     "cell_type": "code", 
     "collapsed": true, 
     "input": [], 
     "language": "python", 
     "outputs": [], 
     "prompt_number": "&nbsp;"
    }
   ]
  }
 ]
}